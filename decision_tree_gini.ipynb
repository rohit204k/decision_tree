{
 "cells": [
  {
   "cell_type": "code",
   "execution_count": 1,
   "id": "0861adfd",
   "metadata": {},
   "outputs": [],
   "source": [
    "import pandas as pd\n",
    "import numpy as np\n",
    "import time\n",
    "from sklearn.model_selection import train_test_split\n",
    "import matplotlib.pyplot as plt\n",
    "import random\n",
    "from statistics import mode"
   ]
  },
  {
   "cell_type": "code",
   "execution_count": 2,
   "id": "3a50f516",
   "metadata": {},
   "outputs": [],
   "source": [
    "class Node():\n",
    "    # Variables in this class will be\n",
    "    # 1. type: Type of the node (Decision , Label).\n",
    "    # 2. attribute: If this is a decison node, then attribute contains the name of the attribute that this node will be testing.\n",
    "    # 3. Possible values: For the given attribute value, this list will have all possible values of the attribute.\n",
    "    # 4. Child Node Links: This is a collection of the child nodes from this node.\n",
    "    # 5. Label: If the type of the node is label, then this variable will hold the name of the variable.\n",
    "    def __init__(self):\n",
    "        self.node_type = None\n",
    "        self.attribute = None\n",
    "        self.values = None\n",
    "        self.children = {}\n",
    "        self.label = None"
   ]
  },
  {
   "cell_type": "code",
   "execution_count": 3,
   "id": "630951e9",
   "metadata": {},
   "outputs": [],
   "source": [
    "class Tree:\n",
    "    # Variables in this class will be \n",
    "    # 1. root_node: Node\n",
    "    # \n",
    "    # Methods in this class will be\n",
    "    # 1. train(): Train the tree\n",
    "    # 2. predict_target(): Test the tree\n",
    "    # 3. get_gini_coefficient(): Calculate gini coefficient of given dataset\n",
    "    # 4. get_best_attributes_list(): Calculate gain of given dataset\n",
    "    \n",
    "    def __init__(self, attribute_values):\n",
    "        self.root_node = Node()  \n",
    "        self.attribute_values = attribute_values\n",
    "    \n",
    "    def get_gini_coefficient(self, dataset):\n",
    "        probability_vector = dataset['target'].value_counts().div(len(dataset))\n",
    "        gini_coefficient = 1-(probability_vector.apply(lambda x: x**2).sum())\n",
    "        return gini_coefficient\n",
    "\n",
    "    def get_best_attributes_list(self, dataset, attributes):\n",
    "        gini_coefficients_list = []\n",
    "        # main_gini_coefficient = get_gini_coefficient(dataset)\n",
    "        for col in attributes:\n",
    "            values = self.attribute_values[col]\n",
    "            sum_gini_coefficient = 0\n",
    "            for val in values:\n",
    "                sub_dataset_len = len(dataset[dataset[col]==val])\n",
    "                gini_coefficient = self.get_gini_coefficient(dataset[dataset[col]==val])\n",
    "                sum_gini_coefficient += (sub_dataset_len/len(dataset))*gini_coefficient\n",
    "            # info_gain = main_entropy - avg_entropy\n",
    "            gini_coefficients_list.append([col, sum_gini_coefficient])\n",
    "        gini_coefficients_list = pd.DataFrame(gini_coefficients_list,columns=['Attribute','Gini_Coefficient'])\n",
    "        return gini_coefficients_list.sort_values(by=['Gini_Coefficient'],ascending=True)\n",
    "    \n",
    "    def train(self, dataset, attributes):\n",
    "        node = Node()\n",
    "        target_labels = dataset.value_counts(subset=['target'],sort=True)\n",
    "        \n",
    "        # Termination condition\n",
    "        if target_labels.iloc[0] == len(dataset):\n",
    "            node.node_type='LEAF'\n",
    "            node.label = target_labels.idxmax()[0]\n",
    "            return node\n",
    "\n",
    "        if attributes.size == 0:\n",
    "            node.node_type='LEAF'\n",
    "            node.label = target_labels.idxmax()[0]\n",
    "            return node\n",
    "\n",
    "        info_gain_list = self.get_best_attributes_list(dataset, attributes) # Dataset and attribute lists are changing every time, should we take original one every time.\n",
    "        best_attribute = info_gain_list.iloc[0]['Attribute']\n",
    "    \n",
    "        node.node_type='DECISION'\n",
    "        node.attribute = best_attribute\n",
    "        node.values = self.attribute_values[best_attribute]\n",
    "        \n",
    "        index = np.argwhere(attributes==best_attribute)\n",
    "        sub_attributes = np.delete(attributes, index) \n",
    "\n",
    "        for value in node.values:\n",
    "            sub_dataset = dataset[dataset[best_attribute]==value]\n",
    "\n",
    "            if sub_dataset.empty:\n",
    "                node.attribute = None\n",
    "                node.values = None\n",
    "\n",
    "                node.node_type='LEAF'\n",
    "                node.label = target_labels.idxmax()[0]\n",
    "\n",
    "            else:            \n",
    "                sub_decision_tree = self.train(sub_dataset,sub_attributes)\n",
    "                node.children[value] = sub_decision_tree\n",
    "\n",
    "        return node\n",
    "        \n",
    "        \n",
    "    def generate_tree(self, dataset, attributes):\n",
    "        self.root_node = self.train(dataset, attributes)\n",
    "          \n",
    "    def predict_target(self, node, instance):\n",
    "        if node.node_type =='LEAF':\n",
    "            return node.label\n",
    "        best_attribute = node.attribute\n",
    "        best_attribute_value = instance[best_attribute]\n",
    "        next_node = node.children[best_attribute_value]\n",
    "        return self.predict_target(next_node,instance)"
   ]
  },
  {
   "cell_type": "code",
   "execution_count": 4,
   "id": "ccc70b93",
   "metadata": {},
   "outputs": [
    {
     "data": {
      "image/png": "[encoded data removed]",
      "text/plain": [
       "<Figure size 640x480 with 1 Axes>"
      ]
     },
     "metadata": {},
     "output_type": "display_data"
    },
    {
     "name": "stdout",
     "output_type": "stream",
     "text": [
      "Mean accuracy of model over training set: 0.968390804597701 and Standart deviation: 0.007816937073985904\n"
     ]
    },
    {
     "data": {
      "image/png": "[encoded data removed]",
      "text/plain": [
       "<Figure size 640x480 with 1 Axes>"
      ]
     },
     "metadata": {},
     "output_type": "display_data"
    },
    {
     "name": "stdout",
     "output_type": "stream",
     "text": [
      "Mean accuracy of model over testing set: 0.9551724137931036 and Standart deviation: 0.019875421225046666\n"
     ]
    }
   ],
   "source": [
    "# Code to test the tree class\n",
    "\n",
    "data = pd.read_csv('house_votes_84.csv')\n",
    "attributes = np.array(data.columns.drop('target'))\n",
    "attribute_values = {}\n",
    "for attribute in attributes:\n",
    "    attribute_values[attribute] = data[attribute].unique()\n",
    "    \n",
    "training_accuracy_list = []\n",
    "testing_accuracy_list = []\n",
    "\n",
    "for trial in range(20):\n",
    "    train_set, test_set = train_test_split(data,test_size=0.2,shuffle=True, random_state=random.randint(1,1000))\n",
    "    \n",
    "    decision_tree = Tree(attribute_values)\n",
    "    \n",
    "    decision_tree.generate_tree(train_set, attributes)\n",
    "\n",
    "    correct_predictions = 0\n",
    "    for index, instance in train_set.iterrows():\n",
    "        predicted_class = decision_tree.predict_target(decision_tree.root_node, instance)\n",
    "        if instance['target']==predicted_class:\n",
    "            correct_predictions+=1\n",
    "    train_accuracy = (correct_predictions/len(train_set))\n",
    "    training_accuracy_list.append(train_accuracy)\n",
    "\n",
    "    correct_predictions = 0\n",
    "    for index, instance in test_set.iterrows():\n",
    "        predicted_class = decision_tree.predict_target(decision_tree.root_node, instance)\n",
    "        if instance['target']==predicted_class:\n",
    "            correct_predictions+=1\n",
    "    test_accuracy = (correct_predictions/len(test_set))\n",
    "    testing_accuracy_list.append(test_accuracy)\n",
    "    \n",
    "training_accuracy_list = np.array(training_accuracy_list)\n",
    "testing_accuracy_list = np.array(testing_accuracy_list)\n",
    "\n",
    "mean_training_accuracy = np.mean(training_accuracy_list)\n",
    "std_training_accuracy = np.std(training_accuracy_list)\n",
    "\n",
    "mean_testing_accuracy = np.mean(testing_accuracy_list)\n",
    "std_testing_accuracy = np.std(testing_accuracy_list)\n",
    "\n",
    "plt.hist(training_accuracy_list)\n",
    "plt.title('Training Data')\n",
    "plt.ylabel('Accuracy frequency')\n",
    "plt.xlabel('Accuracy')\n",
    "plt.show()\n",
    "\n",
    "print('Mean accuracy of model over training set: {} and Standart deviation: {}'.format(mean_training_accuracy,std_training_accuracy))\n",
    "\n",
    "plt.hist(testing_accuracy_list)\n",
    "plt.title('Testing Data')\n",
    "plt.ylabel('Accuracy frequency')\n",
    "plt.xlabel('Accuracy')\n",
    "plt.show()\n",
    "\n",
    "print('Mean accuracy of model over testing set: {} and Standart deviation: {}'.format(mean_testing_accuracy,std_testing_accuracy))\n",
    "\n"
   ]
  },
  {
   "cell_type": "code",
   "execution_count": null,
   "id": "d09d7252",
   "metadata": {},
   "outputs": [],
   "source": []
  }
 ],
 "metadata": {
  "kernelspec": {
   "display_name": "Python 3 (ipykernel)",
   "language": "python",
   "name": "python3"
  },
  "language_info": {
   "codemirror_mode": {
    "name": "ipython",
    "version": 3
   },
   "file_extension": ".py",
   "mimetype": "text/x-python",
   "name": "python",
   "nbconvert_exporter": "python",
   "pygments_lexer": "ipython3",
   "version": "3.9.6"
  }
 },
 "nbformat": 4,
 "nbformat_minor": 5
}
